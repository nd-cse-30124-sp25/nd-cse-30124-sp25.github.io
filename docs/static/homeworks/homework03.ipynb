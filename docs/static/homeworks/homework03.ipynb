{
  "cells": [
    {
      "cell_type": "markdown",
      "metadata": {
        "id": "VnxyrBUWGrO3"
      },
      "source": [
        "### Homework 3: Image Segmentation\n",
        "\n",
        "1. Given a data set of unlabeled ransom letter images\n",
        "2. KMeans Clustering Segmentation with PCA\n",
        "3. Agglomerative Clustering Segmentation with PCA\n",
        "4. Gaussian Mixture Model Clustering with PCA\n",
        "6. Train a Support Vector Classifier with different kernels and PCA\n",
        "7. Evaluate the models\n",
        "8. Use the models on the images to create a png of each letter"
      ]
    },
    {
      "cell_type": "markdown",
      "metadata": {},
      "source": [
        "### Homework 3: Encoded Letters\n",
        "\n",
        "The police need some help with those letters Detective Caulfield delivered during class. The letters appear to be newspaper cutouts all combined together into a single letter. The Police don't want to do all the manual work of converting the letters into a text format and so they've asked your your help!\n",
        "\n",
        "You can access the letters in the following google drive folder:\n",
        "[Homework03 Data](https://drive.google.com/file/d/1oQ1xvOiSS5Yo9_Dddm-WC8KQ0VohFcG2/view?usp=sharing)\n",
        "\n",
        "As you try to fight off the spring break hangover, you realize you can treat this as an image segmentation task. We need to figure out where in the entire image each letter is. After hairing the dog, you have another breakthrough idea, what if you just perform a clustering task with only two clusters, foreground and background? Using the clustering methods we saw in class, you decide to give it a shot!"
      ]
    },
    {
      "cell_type": "code",
      "execution_count": null,
      "metadata": {
        "id": "0ldVOMi-GrO6"
      },
      "outputs": [],
      "source": [
        "##### IMPORTS #####\n",
        "import cv2\n",
        "\n",
        "import numpy as np\n",
        "import matplotlib.pyplot as plt\n",
        "\n",
        "from sklearn.preprocessing import StandardScaler\n",
        "from sklearn.decomposition import PCA\n",
        "from sklearn.cluster import KMeans, AgglomerativeClustering\n",
        "from sklearn.mixture import GaussianMixture\n",
        "from sklearn.svm import SVC\n",
        "\n",
        "# Set random seed for NumPy’s random number generator\n",
        "#     Conceptually: makes random operations (e.g., random initialization in KMeans, shuffling data, or selecting random samples) produce the same results every time the code is run\n",
        "#     aka your code becomes reporducable\n",
        "np.random.seed(42)"
      ]
    },
    {
      "cell_type": "markdown",
      "metadata": {},
      "source": [
        "### Loading Data\n",
        "\n",
        "We can use the imread function from the cv2 library to read our images in.\n",
        "We should end up with the actual images shape being (595, 420, 3) and the mask\n",
        "shape being (595, 420)"
      ]
    },
    {
      "cell_type": "code",
      "execution_count": null,
      "metadata": {
        "id": "uX4fvw_aGrO9"
      },
      "outputs": [],
      "source": [
        "# TODO: Define paths (modify these according to your actual data paths)\n",
        "image_1_path = 'homework03/note_page_1.png'\n",
        "mask_1_path = 'homework03/mask_page_1.png'\n",
        "\n",
        "image_2_path = 'homework03/note_page_2.png'\n",
        "mask_2_path = 'homework03/mask_page_2.png'\n",
        "\n",
        "image_3_path = 'homework03/note_page_3.png'\n",
        "mask_3_path = 'homework03/mask_page_3.png'\n",
        "\n",
        "image_4_path = 'homework03/note_page_4.png'\n",
        "mask_4_path = 'homework03/mask_page_4.png'\n",
        "\n",
        "\n",
        "image_1 = cv2.imread(image_1_path)\n",
        "image_1 = cv2.cvtColor(image_1, cv2.COLOR_BGR2RGB)\n",
        "mask_1 = cv2.imread(mask_1_path, cv2.IMREAD_GRAYSCALE)\n",
        "\n",
        "image_2 = cv2.imread(image_2_path)\n",
        "image_2 = cv2.cvtColor(image_2, cv2.COLOR_BGR2RGB)\n",
        "mask_2 = cv2.imread(mask_2_path, cv2.IMREAD_GRAYSCALE)\n",
        "\n",
        "image_3 = cv2.imread(image_3_path)\n",
        "image_3 = cv2.cvtColor(image_3, cv2.COLOR_BGR2RGB)\n",
        "mask_3 = cv2.imread(mask_3_path, cv2.IMREAD_GRAYSCALE)\n",
        "\n",
        "image_4 = cv2.imread(image_4_path)\n",
        "image_4 = cv2.cvtColor(image_4, cv2.COLOR_BGR2RGB)\n",
        "mask_4 = cv2.imread(mask_4_path, cv2.IMREAD_GRAYSCALE)"
      ]
    },
    {
      "cell_type": "markdown",
      "metadata": {},
      "source": [
        "### Unsupervised Learning Image Segmentation\n",
        "\n",
        "You remember there were a number of clustering methods in class, but you also remember that typically k-means clustering was the one used as a sort of litmus test, so you figure that may as well be the place to start"
      ]
    },
    {
      "cell_type": "code",
      "execution_count": null,
      "metadata": {
        "id": "jIv8fyr5GrO7"
      },
      "outputs": [],
      "source": [
        "# -------------------------------------\n",
        "# Task 1: Perform Kmeans Segmentation\n",
        "# -------------------------------------\n",
        "def kmeans_segmentation(image, pca_components=None):\n",
        "    \"\"\"\n",
        "    Perform K-Means segmentation on an image\n",
        "\n",
        "    Args:\n",
        "        image: RGB image\n",
        "        pca_components: Number of PCA components to use (None for no PCA)\n",
        "\n",
        "    Returns:\n",
        "        segmented_image: Image with pixel values replaced by cluster labels\n",
        "    \"\"\"\n",
        "    # Reshape the image into a 2D array of pixels and 3 color values (RGB)\n",
        "    pixels = image.reshape(-1, 3)\n",
        "\n",
        "    # Apply PCA if specified\n",
        "    if pca_components is not None:\n",
        "        # TODO: Standardize pixel values to have zero mean and unit variance\n",
        "\n",
        "\n",
        "        # TODO: Apply PCA to reduce dimensionality\n",
        "\n",
        "\n",
        "        # TODO: Assign PCA-transformed data to X\n",
        "        X = ...\n",
        "    else:\n",
        "        # If no PCA wanted, just set X = to the reshaped image\n",
        "        X = ...\n",
        "\n",
        "    # TODO: Perform K-Means clustering, fit Kmeans to data to get cluster labels for each pixel\n",
        "    #    hint, we want to cluster the foreground and the background, so how many clusers should you use?\n",
        "\n",
        "    # Reshape the labels back to the image shape\n",
        "    segmented_image = labels.reshape(image.shape[:2])\n",
        "\n",
        "    return segmented_image"
      ]
    },
    {
      "cell_type": "markdown",
      "metadata": {},
      "source": [
        "### Agglomerative Clustering\n",
        "\n",
        "This will likely crash your kernel, it's a pedagogical tool."
      ]
    },
    {
      "cell_type": "code",
      "execution_count": null,
      "metadata": {
        "id": "c5JW64tzGrO7"
      },
      "outputs": [],
      "source": [
        "# -------------------------------------\n",
        "# Task 2: Perform Agglomerative Segmentation\n",
        "# -------------------------------------\n",
        "def agglomerative_segmentation(image, pca_components=None):\n",
        "    \"\"\"\n",
        "    Perform Agglomerative Clustering on an image\n",
        "\n",
        "    Args:\n",
        "        image: RGB image\n",
        "        pca_components: Number of PCA components to use (None for no PCA)\n",
        "\n",
        "    Returns:\n",
        "        segmented_image: Image with pixel values replaced by cluster labels\n",
        "    \"\"\"\n",
        "\n",
        "    # Reshape the image into a 2D array of pixels and 3 color values (RGB)\n",
        "    pixels = image.reshape(-1, 3)\n",
        "\n",
        "    # Apply PCA if specified\n",
        "    if pca_components is not None:\n",
        "        # TODO: Standardize pixel values to have zero mean and unit variance\n",
        "\n",
        "\n",
        "        # TODO: Apply PCA to reduce dimensionality\n",
        "\n",
        "\n",
        "        # TODO: Assign PCA-transformed data to X\n",
        "        X = ...\n",
        "    else:\n",
        "        X = ...\n",
        "\n",
        "    # TODO: Apply Agglomerative Clustering\n",
        "\n",
        "\n",
        "    # Reshape the labels back to the image shape\n",
        "    segmented_image = labels.reshape(image.shape[:2])\n",
        "\n",
        "    return segmented_image"
      ]
    },
    {
      "cell_type": "code",
      "execution_count": null,
      "metadata": {
        "id": "GxMPw2HcGrO7"
      },
      "outputs": [],
      "source": [
        "# -------------------------------------\n",
        "# Task 3: Perform Gaussian Mixture Model Segmentation\n",
        "# -------------------------------------\n",
        "def gmm_segmentation(image, pca_components=None):\n",
        "    \"\"\"\n",
        "    Perform Gaussian Mixture Model segmentation on an image\n",
        "\n",
        "    Args:\n",
        "        image: RGB image\n",
        "        pca_components: Number of PCA components to use (None for no PCA)\n",
        "\n",
        "    Returns:\n",
        "        segmented_image: Image with pixel values replaced by component labels\n",
        "    \"\"\"\n",
        "\n",
        "    # Reshape the image into a 2D array of pixels and 3 color values (RGB)\n",
        "    pixels = image.reshape(-1, 3)\n",
        "\n",
        "    # Apply PCA if specified\n",
        "    if pca_components is not None:\n",
        "        # TODO: Standardize pixel values to have zero mean and unit variance\n",
        "\n",
        "\n",
        "        # TODO: Apply PCA to reduce dimensionality\n",
        "\n",
        "\n",
        "        # TODO: Assign PCA-transformed data to X\n",
        "        X = ...\n",
        "    else:\n",
        "        X = ...\n",
        "\n",
        "    # TODO: Apply GMM\n",
        "\n",
        "\n",
        "    # Reshape the labels back to the image shape\n",
        "    segmented_image = labels.reshape(image.shape[:2])\n",
        "\n",
        "    return segmented_image"
      ]
    },
    {
      "cell_type": "markdown",
      "metadata": {},
      "source": [
        "### Evaluating Clustering Segmentations\n",
        "\n",
        "We'll need to evaluate how well our segmentation methods are doing. We can use the intersection over union (IoU) metric to evaluate how well our segmentation methods are doing.\n",
        "\n",
        "Intersection over Union (IoU) is defined as the intersection of the predicted mask and the ground truth mask divided by the union of the predicted mask and the ground truth mask.\n",
        "\n",
        "$$IoU = \\frac{TP}{TP + FP + FN}$$\n",
        "\n",
        "Where TP is the number of true positives, FP is the number of false positives, and FN is the number of false negatives.\n",
        "\n",
        "Really all this boils down to is looking at how close our predicted labels, if we made every background cluster pixel black, and every foreground cluster pixel 1, is to our ground-truth mask\n",
        "\n",
        "In order to actually assess how well your models did, you of course need something to compare against, so the police manually annotated 4 letters and created masks for them"
      ]
    },
    {
      "cell_type": "code",
      "execution_count": null,
      "metadata": {
        "id": "iQqxBfvSGrO8"
      },
      "outputs": [],
      "source": [
        "# -------------------------------------\n",
        "# Task 6: Segmentation Metrics\n",
        "# -------------------------------------\n",
        "def calculate_segmentation_metrics(pred, truth, invert=False, visualize=False):\n",
        "    \"\"\"\n",
        "    Calculate Intersection over Union (IoU) to measure segmentation accuracy\n",
        "\n",
        "    Args:\n",
        "        pred: Binary prediction mask (595, 420)\n",
        "        truth: Binary ground truth mask (595, 420)\n",
        "\n",
        "    Returns:\n",
        "        iou: Intersection over Union (IoU) metric\n",
        "    \"\"\"\n",
        "    if visualize:\n",
        "      # Visualize the masks\n",
        "      plt.figure(figsize=(10, 5))\n",
        "      \n",
        "      plt.subplot(1, 2, 1)\n",
        "      plt.title('Prediction Mask')\n",
        "      plt.imshow(pred, cmap='gray')\n",
        "      plt.axis('off')\n",
        "      \n",
        "      plt.subplot(1, 2, 2)\n",
        "      plt.title('Ground Truth Mask')\n",
        "      plt.imshow(truth, cmap='gray')\n",
        "      plt.axis('off')\n",
        "      \n",
        "      plt.show()\n",
        "\n",
        "\n",
        "    # TODO: Convert pred to boolean mask\n",
        "\n",
        "\n",
        "    # TODO: If invert is true, then flip foreground and background labels\n",
        "    if invert:\n",
        "      pass\n",
        "\n",
        "    # TODO: Convert truth to boolean mask\n",
        "\n",
        "\n",
        "    # TODO: Calculate intersection and union\n",
        "\n",
        "\n",
        "    # TODO: calculate IoU (Intersection over Union)\n",
        "    #    hint: this is also known as the Jaccard index\n",
        "    iou = ...\n",
        "    print('IoU:', iou)\n",
        "\n",
        "    return iou"
      ]
    },
    {
      "cell_type": "markdown",
      "metadata": {},
      "source": [
        "### Unsupervised Segmentation\n",
        "\n",
        "We should probably explore how well each of our unsupervised segmentation methods worked, with different numbers of PCA components."
      ]
    },
    {
      "cell_type": "code",
      "execution_count": null,
      "metadata": {
        "id": "cfDzIAU2GrO9",
        "outputId": "7e63ccff-92db-44a1-d14a-ca1889251465"
      },
      "outputs": [],
      "source": [
        "print(\"\\nPerforming Unsupervised Segmentation...\")\n",
        "for pca_components in [None, 1, 2]:\n",
        "    # TODO: Run Kmeans segmentation, evaluate how well it did\n",
        "    print(f\"Running KMeans with PCA components: {pca_components}\")\n",
        "    segmented_image_kmeans = ...\n",
        "\n",
        "\n",
        "    # TODO Run GMM, evaluate how well it did\n",
        "    print(f\"Running Gaussian Mixture Model with PCA components: {pca_components}\")\n",
        "    segmented_image_gmm = ...\n"
      ]
    },
    {
      "cell_type": "markdown",
      "metadata": {},
      "source": [
        "### Expected Output\n",
        "\n",
        "```\n",
        "Performing Unsupervised Segmentation...\n",
        "Running KMeans with PCA components: None\n",
        "IoU: 0.8150511446663399\n",
        "Running Gaussian Mixture Model with PCA components: None\n",
        "IoU: 0.8456018086408212\n",
        "Running KMeans with PCA components: 1\n",
        "IoU: 0.7816316084529681\n",
        "Running Gaussian Mixture Model with PCA components: 1\n",
        "IoU: 0.8448758633563543\n",
        "Running KMeans with PCA components: 2\n",
        "IoU: 0.7847515051063914\n",
        "Running Gaussian Mixture Model with PCA components: 2\n",
        "IoU: 0.8456018086408212\n",
        "```\n",
        "\n",
        "*As we talked about in class, kmeans can be non-deterministic so please don't fret if your numbers are a little different*"
      ]
    },
    {
      "cell_type": "markdown",
      "metadata": {},
      "source": [
        "### Supervised Segmentation\n",
        "\n",
        "The unsupervised segmentation seems to work pretty well, but you wonder if a supervised method might work even better. We could probably set this up in a similar way to the clustering task, but instead of using two clusters (foreground and background), we can have two classes (foreground and background).\n",
        "\n",
        "Luckily the police have manually created a binary mask for us that we can use as labelled data to train our supervised model.\n",
        "\n",
        "Unluckily, we need to somehow let each pixel know about the surrounding pixels. So we'll need to somehow create a feature vector for each pixel that contains information about the pixel and the surrounding pixels.\n",
        "\n",
        "Maybe we can take a patch around each pixel and use the RGB values of the pixels in the patch as features?"
      ]
    },
    {
      "cell_type": "code",
      "execution_count": null,
      "metadata": {
        "id": "xqH-pU1mGrO8"
      },
      "outputs": [],
      "source": [
        "# -------------------------------------\n",
        "# Task 4: Write Extract Features Function\n",
        "# -------------------------------------\n",
        "def extract_features(image, patch_size=5):\n",
        "    \"\"\"\n",
        "    Extract features for each pixel using RGB values and local neighborhood.\n",
        "\n",
        "    Args:\n",
        "        image: RGB image (595, 420, 3)\n",
        "        patch_size: Size of the local neighborhood patch (must be odd)\n",
        "\n",
        "    Returns:\n",
        "        features: Array of shape (n_pixels, n_features) (249900, 78) (595 x 420, 5 x 5 x 3 + 1 x 3)\n",
        "    \"\"\"\n",
        "    height, width = ...\n",
        "\n",
        "    # TODO: Add padding to image\n",
        "    padding = ...\n",
        "\n",
        "    padded = cv2.copyMakeBorder(\n",
        "        image,\n",
        "        padding, padding, padding, padding,\n",
        "        cv2.BORDER_REFLECT\n",
        "    )\n",
        "\n",
        "\n",
        "    # TODO: Calculate total number of pixels\n",
        "    n_pixels = ...\n",
        "\n",
        "    # TODO: Calculate total number of features per pixel\n",
        "    n_features = ...\n",
        "\n",
        "    # TODO: Initialize data structue to store features for all pixels\n",
        "    features = ...\n",
        "\n",
        "    # TODO: Loop through pixels and extracts features for each pixel\n",
        "    #     hint: the feature vector will be all RGB values for every surrounding pixel concatenated with the pixel itself\n",
        "    #     hint: this results in a 78 dimensional feature vector, for each pixel!\n",
        "    #     hint: 5 x 5 path = 25, 3 colors per pixel gives 3 x 25 = 75 + 3 for the pixel itself again gives 78\n",
        "    #     hint: use current pixel RGB values and the surrounding local patch\n",
        "\n",
        "\n",
        "    # Return feature matrix \n",
        "    return features"
      ]
    },
    {
      "cell_type": "code",
      "execution_count": null,
      "metadata": {
        "id": "I3oaFW1YGrO8"
      },
      "outputs": [],
      "source": [
        "# -------------------------------------\n",
        "# Task 5: SVM Segmentation\n",
        "# -------------------------------------\n",
        "def svm_segmentation(train_image, train_mask, test_image, kernel='rbf', pca_components=10):\n",
        "    # TODO: Extract features of training image\n",
        "    X = ...\n",
        "    y = (train_mask > 0).reshape(-1)\n",
        "\n",
        "    # TODO: Scale features\n",
        "\n",
        "\n",
        "    # TODO: Apply PCA\n",
        "\n",
        "\n",
        "    # TODO: Train SVM\n",
        "\n",
        "\n",
        "    # TODO: Extract features of testing image\n",
        "\n",
        "\n",
        "    # TODO: Apply transformations to testing image\n",
        "    #     hint: transformations means scaling and dimensionality reduction\n",
        "\n",
        "\n",
        "    # TODO: Predict on test image\n",
        "\n",
        "\n",
        "    # Reshape predictions to match image matrix shape\n",
        "    segmented_image = predictions.reshape(test_image.shape[:2])\n",
        "\n",
        "    return segmented_image"
      ]
    },
    {
      "cell_type": "markdown",
      "metadata": {},
      "source": [
        "### Supervised Segmentation\n",
        "\n",
        "Now we can try our supervised segmentation method (SVM) with different kernels and different numbers of PCA components.\n",
        "\n",
        "*This will take a while to run, so be patient!*\n",
        "\n",
        "I encourage you to try different amounts for PCA to see if you can beat my results, but the three I tested were 1, 5, and 10"
      ]
    },
    {
      "cell_type": "code",
      "execution_count": null,
      "metadata": {
        "id": "M0vR5UhmGrO9",
        "outputId": "09616445-c296-47c8-eb93-0e33f1abed79"
      },
      "outputs": [],
      "source": [
        "print(\"\\nPerforming Supervised Segmentation...\")\n",
        "for kernel in ['linear', 'poly', 'rbf']:       # Conceptual question: what do 'linear', 'poly' and 'rbf' stand for? Why are we trying each of them as our kernel variable?\n",
        "    for pca_components in [1, 5, 10]:\n",
        "        # TODO: SVM segmentation and evaluation\n",
        "        print(f\"Running SVM with kernel: {kernel} and PCA components: {pca_components}\")\n",
        "        segmented_image_svm = ...\n"
      ]
    },
    {
      "cell_type": "markdown",
      "metadata": {},
      "source": [
        "### Expected Output\n",
        "\n",
        "```\n",
        "Performing Supervised Segmentation...\n",
        "Running SVM with kernel: linear and PCA components: 1\n",
        "IoU: 0.7939733382706887\n",
        "Running SVM with kernel: linear and PCA components: 5\n",
        "IoU: 0.7906213147732772\n",
        "Running SVM with kernel: linear and PCA components: 10\n",
        "IoU: 0.8016820011500843\n",
        "Running SVM with kernel: poly and PCA components: 1\n",
        "IoU: 0.7570233911041068\n",
        "Running SVM with kernel: poly and PCA components: 5\n",
        "IoU: 0.8301359011807786\n",
        "Running SVM with kernel: poly and PCA components: 10\n",
        "IoU: 0.8775227199564151\n",
        "Running SVM with kernel: rbf and PCA components: 1\n",
        "IoU: 0.813663710080135\n",
        "Running SVM with kernel: rbf and PCA components: 5\n",
        "IoU: 0.914427174421753\n",
        "Running SVM with kernel: rbf and PCA components: 10\n",
        "IoU: 0.9516093009405142\n",
        "```"
      ]
    },
    {
      "cell_type": "markdown",
      "metadata": {},
      "source": [
        "### Region Extraction\n",
        "\n",
        "This computer vision stuff is outside the scope of this course, so the code is just provided for you. But this is how we can extract the region of each letter using our segmentation!"
      ]
    },
    {
      "cell_type": "code",
      "execution_count": null,
      "metadata": {
        "id": "JXJHmdgqGrO-"
      },
      "outputs": [],
      "source": [
        "from skimage.measure import label, regionprops\n",
        "import os\n",
        "\n",
        "def extract_and_save_letters(segmented_image, original_image, output_dir='letters'):\n",
        "    \"\"\"\n",
        "    Extract each segmented letter and save as a separate PNG file.\n",
        "    \n",
        "    Args:\n",
        "        segmented_image: Segmented image with unique labels for each letter\n",
        "        original_image: Original RGB image\n",
        "        output_dir: Directory to save the extracted letter images\n",
        "    \"\"\"\n",
        "    # Ensure the output directory exists\n",
        "    os.makedirs(output_dir, exist_ok=True)\n",
        "    \n",
        "    # Label connected components\n",
        "    labeled_image = label(segmented_image)\n",
        "    \n",
        "    # Iterate over each labeled region\n",
        "    for region in regionprops(labeled_image):\n",
        "        # Extract the bounding box of the region\n",
        "        min_row, min_col, max_row, max_col = region.bbox\n",
        "        \n",
        "        # Extract the region from the original image\n",
        "        letter_image = original_image[min_row:max_row, min_col:max_col]\n",
        "        \n",
        "        # Save the extracted letter as a PNG file\n",
        "        letter_filename = os.path.join(output_dir, f'letter_{region.label}.png')\n",
        "        cv2.imwrite(letter_filename, cv2.cvtColor(letter_image, cv2.COLOR_RGB2BGR)) \n"
      ]
    },
    {
      "cell_type": "markdown",
      "metadata": {},
      "source": [
        "### Wrapping up\n",
        "\n",
        "Lets actually use our best combination to extract each letter as a png!"
      ]
    },
    {
      "cell_type": "code",
      "execution_count": null,
      "metadata": {
        "id": "Au56gvNRqJUl"
      },
      "outputs": [],
      "source": [
        "segmented_image = svm_segmentation(train_image, train_mask, test_image, kernel='rbf', pca_components=10)\n",
        "extract_and_save_letters(segmented_image, test_image)"
      ]
    },
    {
      "cell_type": "markdown",
      "metadata": {},
      "source": [
        "### Up Next\n",
        "\n",
        "Now that we have all of the letters extracted, we can perform Optical Character Recognition (OCR) on each letter to extract the text. The next homework we'll explore how to do this with a basic Feed-Forward Neural Network (which you'll be writing from scratch) and a Convolutional Neural Network (which you'll be using from PyTorch)."
      ]
    }
  ],
  "metadata": {
    "colab": {
      "provenance": []
    },
    "kernelspec": {
      "display_name": "Python 3",
      "language": "python",
      "name": "python3"
    },
    "language_info": {
      "codemirror_mode": {
        "name": "ipython",
        "version": 3
      },
      "file_extension": ".py",
      "mimetype": "text/x-python",
      "name": "python",
      "nbconvert_exporter": "python",
      "pygments_lexer": "ipython3",
      "version": "3.9.6"
    }
  },
  "nbformat": 4,
  "nbformat_minor": 0
}
