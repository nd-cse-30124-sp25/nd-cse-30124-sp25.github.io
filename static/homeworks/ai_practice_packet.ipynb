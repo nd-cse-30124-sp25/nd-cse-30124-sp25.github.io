{
 "cells": [
  {
   "cell_type": "markdown",
   "id": "4e53f42e",
   "metadata": {},
   "source": [
    "# Introduction to Artificial Intelligence: Practice Packet"
   ]
  },
  {
   "cell_type": "markdown",
   "id": "94d8023f",
   "metadata": {},
   "source": [
    "Welcome to CSE 30124 - Introduction to Artificial Intelligence\n",
    "\n",
    "This packet is intended to be a simple review of material I will expect familiarity with (due to prereqs!) and a brief introduction to some of the libraries we will be using throughout the course. This packet will not be graded nor is it comprehensive, but completing the packet will certainly help you prepare for class.\n",
    "\n",
    "## Table of Contents\n",
    "1. **Introduction: Jupyter Notebooks**\n",
    "\n",
    "2. **Review: Breadth-First and Depth-First Search**\n",
    "3. **Review: Linear Transformations**\n",
    "\n",
    "4. **Introduction: Probability Distributions**\n",
    "5. **Introduction: Data Distributions**\n",
    "6. **Introduction: Function Approximation**\n",
    "7. **Introduction: Python Libraries for AI**"
   ]
  },
  {
   "cell_type": "markdown",
   "id": "7e06a8e7",
   "metadata": {},
   "source": [
    "## 1. Introduction to Jupyter Notebooks"
   ]
  },
  {
   "cell_type": "markdown",
   "id": "d8e54372",
   "metadata": {},
   "source": [
    "\n",
    "Jupyter Notebooks allow you to write and execute Python code in an interactive environment. \n",
    "They consist of cells that can either contain text (Markdown) or code.\n",
    "\n",
    "### Key Features:\n",
    "- **Code Cells**: Run Python code interactively.\n",
    "- **Markdown Cells**: Write text, equations, and explanations using Markdown.\n",
    "- **Interactivity**: Update code and text dynamically.\n",
    "\n",
    "Try running the code below by selecting the cell and pressing `Shift + Enter`.\n"
   ]
  },
  {
   "cell_type": "code",
   "execution_count": null,
   "id": "993c8970",
   "metadata": {},
   "outputs": [],
   "source": [
    "print('Hello, AI World!')"
   ]
  },
  {
   "cell_type": "markdown",
   "id": "6cdff108",
   "metadata": {},
   "source": [
    "## 2. Review: Breadth-First and Depth-First Search"
   ]
  },
  {
   "cell_type": "markdown",
   "id": "0baa70e1",
   "metadata": {},
   "source": [
    "\n",
    "### Breadth-First Search (BFS)\n",
    "- Explores all neighbors at the current depth before moving to the next level.\n",
    "- Uses a queue (FIFO structure).\n",
    "\n",
    "### Depth-First Search (DFS)\n",
    "- Explores as far as possible along a branch before backtracking.\n",
    "- Uses a stack (LIFO structure) or recursion.\n",
    "\n",
    "### Practice Question:\n",
    "Implement BFS and DFS on the following graph:\n",
    "\n",
    "```\n",
    "Graph:\n",
    "1 - 2 - 3\n",
    "|   |\n",
    "4   5\n",
    "```\n",
    "\n",
    "Write a function `bfs(graph, start)` and `dfs(graph, start)` to traverse the graph.\n"
   ]
  },
  {
   "cell_type": "code",
   "execution_count": null,
   "id": "f4e2c96d",
   "metadata": {},
   "outputs": [],
   "source": [
    "# Solution template\n",
    "def bfs(graph, start):\n",
    "    # Initialize queue and visited list\n",
    "    queue = [start]\n",
    "    visited = set()\n",
    "    result = []\n",
    "    \n",
    "    while queue:\n",
    "        node = queue.pop(0)\n",
    "        if node not in visited:\n",
    "            visited.add(node)\n",
    "            result.append(node)\n",
    "            queue.extend(graph[node])\n",
    "    \n",
    "    return result\n",
    "\n",
    "def dfs(graph, start, visited=None):\n",
    "    if visited is None:\n",
    "        visited = set()\n",
    "    visited.add(start)\n",
    "    result = [start]\n",
    "    \n",
    "    for neighbor in graph[start]:\n",
    "        if neighbor not in visited:\n",
    "            result.extend(dfs(graph, neighbor, visited))\n",
    "    \n",
    "    return result\n",
    "\n",
    "# Graph representation\n",
    "graph = {\n",
    "    1: [2, 4],\n",
    "    2: [1, 3, 5],\n",
    "    3: [2],\n",
    "    4: [1],\n",
    "    5: [2]\n",
    "}\n",
    "\n",
    "# Run BFS and DFS\n",
    "print(\"BFS:\", bfs(graph, 1))\n",
    "print(\"DFS:\", dfs(graph, 1))\n"
   ]
  },
  {
   "cell_type": "markdown",
   "id": "c71a7ba6",
   "metadata": {},
   "source": [
    "## 3. Introduction: Probability Distributions"
   ]
  },
  {
   "cell_type": "markdown",
   "id": "e2c67a6b",
   "metadata": {},
   "source": [
    "\n",
    "Probability distributions describe how probabilities are distributed over events.\n",
    "\n",
    "### Example: Tossing a Coin\n",
    "- **Uniform Distribution**: Equal probability for heads and tails (50% each).\n",
    "- **Normal Distribution**: A bell curve where values are more likely near the mean.\n",
    "\n",
    "### Practice Question:\n",
    "Simulate rolling a die 1000 times and plot the frequency of each outcome.\n"
   ]
  },
  {
   "cell_type": "code",
   "execution_count": null,
   "id": "55e52026",
   "metadata": {},
   "outputs": [],
   "source": [
    "\n",
    "import numpy as np\n",
    "import matplotlib.pyplot as plt\n",
    "\n",
    "# Simulate rolling a die\n",
    "rolls = np.random.randint(1, 7, size=1000)\n",
    "\n",
    "# Plot the frequency\n",
    "plt.hist(rolls, bins=np.arange(1, 8)-0.5, edgecolor='black')\n",
    "plt.title(\"Die Roll Frequencies\")\n",
    "plt.xlabel(\"Die Value\")\n",
    "plt.ylabel(\"Frequency\")\n",
    "plt.xticks(range(1, 7))\n",
    "plt.show()\n"
   ]
  },
  {
   "cell_type": "markdown",
   "id": "f0303ca3",
   "metadata": {},
   "source": [
    "## 4. Review: Data Distributions"
   ]
  },
  {
   "cell_type": "markdown",
   "id": "b1ec02e2",
   "metadata": {},
   "source": [
    "..."
   ]
  },
  {
   "cell_type": "markdown",
   "id": "1eb1ee68",
   "metadata": {},
   "source": [
    "## 5. Review: Function Approximation"
   ]
  },
  {
   "cell_type": "markdown",
   "id": "7f54a24b",
   "metadata": {},
   "source": [
    "..."
   ]
  },
  {
   "cell_type": "markdown",
   "id": "6a75308e",
   "metadata": {},
   "source": [
    "## 6. Review: Linear Transformations"
   ]
  },
  {
   "cell_type": "markdown",
   "id": "d25f23ee",
   "metadata": {},
   "source": [
    "..."
   ]
  },
  {
   "cell_type": "markdown",
   "id": "f5264dda",
   "metadata": {},
   "source": [
    "## 7. Introduction to Python Libraries for AI"
   ]
  },
  {
   "cell_type": "markdown",
   "id": "c6e19850",
   "metadata": {},
   "source": [
    "..."
   ]
  },
  {
   "cell_type": "markdown",
   "id": "f01a626f",
   "metadata": {},
   "source": [
    "## 8. Comprehensive Practice Questions"
   ]
  },
  {
   "cell_type": "markdown",
   "id": "51596330",
   "metadata": {},
   "source": [
    "..."
   ]
  }
 ],
 "metadata": {
  "language_info": {
   "name": "python"
  }
 },
 "nbformat": 4,
 "nbformat_minor": 5
}
