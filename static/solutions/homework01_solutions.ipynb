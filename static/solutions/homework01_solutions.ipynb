{
 "cells": [
  {
   "cell_type": "markdown",
   "id": "7d06a107",
   "metadata": {},
   "source": [
    "\n",
    "# Introduction to Artificial Intelligence - Homework Assignment 01 (20pts.)\n",
    "- NETID:\n",
    "- Name:\n",
    "\n",
    "This assignment covers the following topics:\n",
    "- A* Search\n",
    "- Constraint Satisfaction Problems\n",
    "- Adversarial Search\n",
    "\n",
    "Please complete all sections. Some questions will require written answers, while others will involve coding. Be sure to run your code cells to verify your solutions.\n"
   ]
  },
  {
   "cell_type": "markdown",
   "id": "28d2adec",
   "metadata": {},
   "source": [
    "\n",
    "## Section 1: A* Search (8 pts.)\n",
    "\n"
   ]
  },
  {
   "cell_type": "code",
   "execution_count": 1,
   "id": "efebf7f7",
   "metadata": {},
   "outputs": [
    {
     "name": "stdout",
     "output_type": "stream",
     "text": [
      "Optimal path from Office to Mansion:\n",
      "Office -> Subway Station -> Downtown -> Mansion\n"
     ]
    }
   ],
   "source": [
    "import heapq\n",
    "\n",
    "\n",
    "class Graph:\n",
    "    def __init__(self):\n",
    "        self.edges = {}\n",
    "        self.heuristics = {}\n",
    "\n",
    "    def add_edge(self, from_node, to_node, cost, travel_mode):\n",
    "        if from_node not in self.edges:\n",
    "            self.edges[from_node] = []\n",
    "        self.edges[from_node].append((to_node, cost, travel_mode))\n",
    "\n",
    "    def set_heuristic(self, node, heuristic_value):\n",
    "        self.heuristics[node] = heuristic_value\n",
    "\n",
    "\n",
    "# Initialize the graph\n",
    "graph = Graph()\n",
    "\n",
    "# Define the graph's edges (from_node, to_node, cost, travel_mode)\n",
    "edges = [\n",
    "    (\"Office\", \"Subway Station\", 5, \"Walk\"),\n",
    "    (\"Office\", \"Ferry Terminal\", 15, \"Walk\"),\n",
    "    (\"Subway Station\", \"Downtown\", 10, \"Subway\"),\n",
    "    (\"Ferry Terminal\", \"Suburbs\", 20, \"Ferry\"),\n",
    "    (\"Downtown\", \"Mansion\", 10, \"Taxi\"),\n",
    "    (\"Downtown\", \"Park\", 15, \"Walk\"),\n",
    "    (\"Park\", \"Mansion\", 20, \"Walk\"),\n",
    "    (\"Suburbs\", \"Mansion\", 5, \"Taxi\"),\n",
    "    (\"Bridge\", \"Mansion\", 25, \"Walk\"),\n",
    "]\n",
    "\n",
    "# Add edges to the graph\n",
    "for edge in edges:\n",
    "    graph.add_edge(*edge)\n",
    "\n",
    "# Define heuristic values for A*\n",
    "heuristics = {\n",
    "    \"Office\": 30,\n",
    "    \"Subway Station\": 25,\n",
    "    \"Ferry Terminal\": 20,\n",
    "    \"Downtown\": 15,\n",
    "    \"Suburbs\": 10,\n",
    "    \"Park\": 10,\n",
    "    \"Bridge\": 5,\n",
    "    \"Mansion\": 0,\n",
    "}\n",
    "\n",
    "# Set heuristics in the graph\n",
    "for node, value in heuristics.items():\n",
    "    graph.set_heuristic(node, value)\n",
    "\n",
    "\n",
    "# A* Algorithm\n",
    "def a_star(graph, start, goal):\n",
    "    open_set = [(0, start)]  # Priority queue with (cost, node)\n",
    "    came_from = {}  # To reconstruct the path\n",
    "    g_score = {node: float(\"inf\") for node in heuristics.keys()}\n",
    "    g_score[start] = 0\n",
    "    f_score = {node: float(\"inf\") for node in heuristics.keys()}\n",
    "    f_score[start] = graph.heuristics[start]\n",
    "\n",
    "    while open_set:\n",
    "        current_cost, current = heapq.heappop(open_set)\n",
    "\n",
    "        if current == goal:\n",
    "            # Reconstruct path\n",
    "            path = []\n",
    "            while current in came_from:\n",
    "                path.append(current)\n",
    "                current = came_from[current]\n",
    "            path.append(start)\n",
    "            return path[::-1]\n",
    "\n",
    "        for neighbor, cost, travel_mode in graph.edges.get(current, []):\n",
    "            tentative_g_score = g_score[current] + cost\n",
    "            if tentative_g_score < g_score[neighbor]:\n",
    "                came_from[neighbor] = current\n",
    "                g_score[neighbor] = tentative_g_score\n",
    "                f_score[neighbor] = tentative_g_score + graph.heuristics[neighbor]\n",
    "                heapq.heappush(open_set, (f_score[neighbor], neighbor))\n",
    "\n",
    "    return None  # No path found\n",
    "\n",
    "\n",
    "# Solve the graph\n",
    "start_node = \"Office\"\n",
    "goal_node = \"Mansion\"\n",
    "path = a_star(graph, start_node, goal_node)\n",
    "\n",
    "# Display the solution\n",
    "if path:\n",
    "    print(f\"Optimal path from {start_node} to {goal_node}:\")\n",
    "    print(\" -> \".join(path))\n",
    "else:\n",
    "    print(f\"No path found from {start_node} to {goal_node}.\")"
   ]
  },
  {
   "cell_type": "markdown",
   "id": "2e8f1d6a",
   "metadata": {
    "vscode": {
     "languageId": "plaintext"
    }
   },
   "source": [
    "## Problem 2: Constraint Satisfaction Problems (7pts.)"
   ]
  },
  {
   "cell_type": "code",
   "execution_count": null,
   "id": "5cc81886",
   "metadata": {},
   "outputs": [],
   "source": []
  }
 ],
 "metadata": {
  "kernelspec": {
   "display_name": "Python 3",
   "language": "python",
   "name": "python3"
  },
  "language_info": {
   "codemirror_mode": {
    "name": "ipython",
    "version": 3
   },
   "file_extension": ".py",
   "mimetype": "text/x-python",
   "name": "python",
   "nbconvert_exporter": "python",
   "pygments_lexer": "ipython3",
   "version": "3.9.6"
  }
 },
 "nbformat": 4,
 "nbformat_minor": 5
}
